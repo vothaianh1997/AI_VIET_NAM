{
 "cells": [
  {
   "cell_type": "code",
   "execution_count": 6,
   "metadata": {},
   "outputs": [
    {
     "name": "stdout",
     "output_type": "stream",
     "text": [
      "5 --- 4341522928\n",
      "6 --- 4341522960\n"
     ]
    }
   ],
   "source": [
    "a_number = 5\n",
    "print(a_number, '---', id(a_number))\n",
    "\n",
    "a_number =6\n",
    "print (a_number, '---', id(a_number))"
   ]
  },
  {
   "cell_type": "code",
   "execution_count": 11,
   "metadata": {},
   "outputs": [
    {
     "name": "stdout",
     "output_type": "stream",
     "text": [
      "lien --- 4383432112\n",
      "lien --- 4383432112\n",
      "mien --- 4385309872\n"
     ]
    }
   ],
   "source": [
    "name_1 = 'lien'\n",
    "print(name_1,'---', id(name_1))\n",
    "\n",
    "name_2 = name_1\n",
    "print(name_2,'---', id(name_2))\n",
    "\n",
    "name_2 = 'mien'\n",
    "print(name_2, '---',id(name_2))"
   ]
  },
  {
   "cell_type": "code",
   "execution_count": 10,
   "metadata": {},
   "outputs": [
    {
     "name": "stdout",
     "output_type": "stream",
     "text": [
      "anh --- 4385311728\n",
      "anh --- 4385311728\n",
      "oanh --- 4385311856\n"
     ]
    }
   ],
   "source": [
    "name_1 = 'anh'\n",
    "print(name_1,'---', id(name_1))\n",
    "\n",
    "name_2 = name_1\n",
    "print(name_2,'---', id(name_2))\n",
    "\n",
    "name_2 = 'oanh'\n",
    "print(name_2,'---', id(name_2))"
   ]
  },
  {
   "cell_type": "code",
   "execution_count": 15,
   "metadata": {},
   "outputs": [
    {
     "name": "stdout",
     "output_type": "stream",
     "text": [
      "4341523152\n",
      "4341523152\n"
     ]
    }
   ],
   "source": [
    "number_1 = 12\n",
    "number_2 = 12\n",
    "print(id(number_1))\n",
    "print(id(number_2))"
   ]
  },
  {
   "cell_type": "code",
   "execution_count": 13,
   "metadata": {},
   "outputs": [
    {
     "name": "stdout",
     "output_type": "stream",
     "text": [
      "A --- 4346496432\n",
      "A --- 4346496432\n"
     ]
    }
   ],
   "source": [
    "name_1 = 'A'\n",
    "print(name_1,'---',id(name_1))\n",
    "\n",
    "name_2= 'A'\n",
    "print(name_2,'---', id(name_2))"
   ]
  },
  {
   "cell_type": "code",
   "execution_count": 16,
   "metadata": {},
   "outputs": [
    {
     "name": "stdout",
     "output_type": "stream",
     "text": [
      "[1, 2, 3] 4384654432\n",
      "[1, 5, 3] 4384654432\n"
     ]
    }
   ],
   "source": [
    "a_list = [1,2,3]\n",
    "print(a_list, id(a_list))\n",
    "\n",
    "a_list[1] = 5\n",
    "print(a_list, id(a_list))"
   ]
  },
  {
   "cell_type": "code",
   "execution_count": 18,
   "metadata": {},
   "outputs": [
    {
     "name": "stdout",
     "output_type": "stream",
     "text": [
      "[1, [1, 2], 3] 4385383440\n",
      "4341522800\n",
      "4385383200\n",
      "4341522864\n",
      "\n",
      "\n",
      "[8, [5, 2], 3] 4385383440\n",
      "4341523024\n",
      "4385383200\n",
      "4341522864\n"
     ]
    }
   ],
   "source": [
    "a_list = [1,[1,2],3]\n",
    "print(a_list,id(a_list))\n",
    "print(id(a_list[0]))\n",
    "print(id(a_list[1]))\n",
    "print(id(a_list[2]))\n",
    "\n",
    "print('\\n')\n",
    "a_list[1][0] = 5\n",
    "a_list[0] = 8\n",
    "\n",
    "print(a_list, id(a_list))\n",
    "print(id(a_list[0]))\n",
    "print(id(a_list[1]))\n",
    "print(id(a_list[2]))"
   ]
  },
  {
   "cell_type": "code",
   "execution_count": null,
   "metadata": {},
   "outputs": [],
   "source": []
  }
 ],
 "metadata": {
  "kernelspec": {
   "display_name": "Python 3",
   "language": "python",
   "name": "python3"
  },
  "language_info": {
   "codemirror_mode": {
    "name": "ipython",
    "version": 3
   },
   "file_extension": ".py",
   "mimetype": "text/x-python",
   "name": "python",
   "nbconvert_exporter": "python",
   "pygments_lexer": "ipython3",
   "version": "3.7.8"
  }
 },
 "nbformat": 4,
 "nbformat_minor": 4
}
