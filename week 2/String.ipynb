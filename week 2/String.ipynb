{
 "cells": [
  {
   "cell_type": "code",
   "execution_count": 4,
   "metadata": {},
   "outputs": [
    {
     "name": "stdout",
     "output_type": "stream",
     "text": [
      "66\n"
     ]
    }
   ],
   "source": [
    "ascii_value = ord('B')\n",
    "print(ascii_value)"
   ]
  },
  {
   "cell_type": "code",
   "execution_count": 5,
   "metadata": {},
   "outputs": [
    {
     "name": "stdout",
     "output_type": "stream",
     "text": [
      "N\n"
     ]
    }
   ],
   "source": [
    "a_character = chr(78)\n",
    "print(a_character)"
   ]
  },
  {
   "cell_type": "code",
   "execution_count": 11,
   "metadata": {},
   "outputs": [
    {
     "name": "stdout",
     "output_type": "stream",
     "text": [
      "I LOVE AI VIET NAM I LOVE AI VIET NAM I LOVE AI VIET NAM  I LOVE AI VIET NAM \n"
     ]
    }
   ],
   "source": [
    "text1 = 'I LOVE AI VIET NAM'\n",
    "text2 = \"I LOVE AI VIET NAM\"\n",
    "text3 = '''I LOVE AI VIET NAM'''\n",
    "text4 = \"\"\" I LOVE AI VIET NAM \"\"\"\n",
    "print(text1,text2,text3,text4)"
   ]
  },
  {
   "cell_type": "code",
   "execution_count": 13,
   "metadata": {},
   "outputs": [
    {
     "name": "stdout",
     "output_type": "stream",
     "text": [
      "Chuoi co ki tu dac biet \", 'ben trong\n"
     ]
    }
   ],
   "source": [
    " text5 = \"Chuoi co ki tu dac biet \\\", \\'ben trong\"\n",
    "print(text5)"
   ]
  },
  {
   "cell_type": "code",
   "execution_count": 14,
   "metadata": {},
   "outputs": [
    {
     "name": "stdout",
     "output_type": "stream",
     "text": [
      "Hello AI VIETNAM. Have a nice day! \n",
      "Hello AI VIETNAM. Have a nice day! \n",
      "***Hi AI VIETNAM***\n"
     ]
    }
   ],
   "source": [
    "# THEM VAO BEN TRONG CHUOI\n",
    "value1 = \"AI VIETNAM\"\n",
    "print(\"Hello %s. Have a nice day! \"%value1)\n",
    "print(\"Hello %s. Have a nice day! \"%(value1))\n",
    "\n",
    "value2 = \"Hi\"\n",
    "print(\"***%s %s***\"%(value2,value1))"
   ]
  },
  {
   "cell_type": "code",
   "execution_count": 15,
   "metadata": {},
   "outputs": [
    {
     "name": "stdout",
     "output_type": "stream",
     "text": [
      "Error rate at the 5th iteration is 48.200000\n"
     ]
    }
   ],
   "source": [
    "i = 5\n",
    "value = 48.2\n",
    "print(\"Error rate at the %dth iteration is %f\"%(i, value))"
   ]
  },
  {
   "cell_type": "code",
   "execution_count": 16,
   "metadata": {},
   "outputs": [
    {
     "name": "stdout",
     "output_type": "stream",
     "text": [
      "hello, AIVIETNAM!\n",
      "hello, AIVIETNAM!\n"
     ]
    }
   ],
   "source": [
    "value1 = \"hello\"\n",
    "value2 = \"AIVIETNAM\"\n",
    "\n",
    "print(\"%s, %s!\"%(value1, value2))\n",
    "print(\"%s, %s!\"%(value1, value2))"
   ]
  },
  {
   "cell_type": "code",
   "execution_count": 18,
   "metadata": {},
   "outputs": [
    {
     "name": "stdout",
     "output_type": "stream",
     "text": [
      "hello, AIVIETNAM\n",
      "AIVIETNAM, hello\n"
     ]
    }
   ],
   "source": [
    "value1 = \"hello\"\n",
    "value2 = \"AIVIETNAM\"\n",
    "\n",
    "s1 = \"{n1}, {n2}\".format(n1=value1, n2=value2)\n",
    "s2 = \"{n1}, {n2}\".format(n2=value1, n1=value2)\n",
    "\n",
    "print(s1)\n",
    "print(s2)"
   ]
  },
  {
   "cell_type": "code",
   "execution_count": 19,
   "metadata": {},
   "outputs": [
    {
     "name": "stdout",
     "output_type": "stream",
     "text": [
      "Toi thichAI\n",
      "Toi thichAIToi thichAI\n"
     ]
    }
   ],
   "source": [
    "s1 = 'Toi thich'\n",
    "s2 = 'AI'\n",
    "\n",
    "s3 = s1 + s2\n",
    "s4 = s3*2\n",
    "\n",
    "print(s3)\n",
    "print(s4)"
   ]
  },
  {
   "cell_type": "code",
   "execution_count": 20,
   "metadata": {},
   "outputs": [
    {
     "name": "stdout",
     "output_type": "stream",
     "text": [
      "True\n",
      "False\n"
     ]
    }
   ],
   "source": [
    "# Kiem tra xem string gom cac chu so\n",
    "print(\"10\".isdigit())\n",
    "print(\"abc\".isdigit())"
   ]
  },
  {
   "cell_type": "code",
   "execution_count": 21,
   "metadata": {},
   "outputs": [
    {
     "name": "stdout",
     "output_type": "stream",
     "text": [
      "False\n",
      "True\n"
     ]
    }
   ],
   "source": [
    "# Kiem tra xem string gom cac chu cai\n",
    "print(\"10\".isalpha())\n",
    "print(\"abc\".isalpha())"
   ]
  },
  {
   "cell_type": "code",
   "execution_count": 23,
   "metadata": {},
   "outputs": [
    {
     "name": "stdout",
     "output_type": "stream",
     "text": [
      "True\n",
      "False\n"
     ]
    }
   ],
   "source": [
    "# Kiem tra viet thuong cua ky tu\n",
    "print(\"ab\".islower())\n",
    "print(\"Ab\".islower())"
   ]
  },
  {
   "cell_type": "code",
   "execution_count": 25,
   "metadata": {},
   "outputs": [
    {
     "name": "stdout",
     "output_type": "stream",
     "text": [
      "False\n",
      "True\n"
     ]
    }
   ],
   "source": [
    "# Kiem tra chu viet hoa cua ky tu\n",
    "print(\"Ab\".isupper())\n",
    "print(\"AB\".isupper())"
   ]
  },
  {
   "cell_type": "code",
   "execution_count": 26,
   "metadata": {},
   "outputs": [
    {
     "name": "stdout",
     "output_type": "stream",
     "text": [
      "True\n",
      "False\n",
      "False\n"
     ]
    }
   ],
   "source": [
    "# Kiem tra chuoi co bat dau bang chua hoa ko\n",
    "print(\"Hello\".istitle())\n",
    "print(\"HELLO\".istitle())\n",
    "print(\"hello\".istitle())"
   ]
  },
  {
   "cell_type": "code",
   "execution_count": 28,
   "metadata": {},
   "outputs": [
    {
     "name": "stdout",
     "output_type": "stream",
     "text": [
      "False\n",
      "True\n",
      "True\n",
      "False\n"
     ]
    }
   ],
   "source": [
    "# Kiem tra chuoi chi la khoang trang\n",
    "print(\"\".isspace())\n",
    "print(\"  \".isspace())\n",
    "print(\"   \".isspace())\n",
    "print(\"  abc  \".isspace())"
   ]
  },
  {
   "cell_type": "code",
   "execution_count": 30,
   "metadata": {},
   "outputs": [
    {
     "name": "stdout",
     "output_type": "stream",
     "text": [
      "2\n",
      "0\n",
      "11\n"
     ]
    }
   ],
   "source": [
    "s = \"AI VIET NAM\"\n",
    "\n",
    "print(s.count('A'))\n",
    "print(s.count('a'))\n",
    "print(len(s))"
   ]
  },
  {
   "cell_type": "code",
   "execution_count": 31,
   "metadata": {},
   "outputs": [
    {
     "data": {
      "text/plain": [
       "'Day La Bai Hoc Cua Ai Viet Nam'"
      ]
     },
     "execution_count": 31,
     "metadata": {},
     "output_type": "execute_result"
    }
   ],
   "source": [
    "# Chuyen doi cac ki tu thanh ky tu hoa \n",
    "mystr = \"day la bai hoc cua AI VIET NAM\"\n",
    "mystr.title()"
   ]
  },
  {
   "cell_type": "code",
   "execution_count": 32,
   "metadata": {},
   "outputs": [
    {
     "data": {
      "text/plain": [
       "'Day la bai hoc cua ai viet nam'"
      ]
     },
     "execution_count": 32,
     "metadata": {},
     "output_type": "execute_result"
    }
   ],
   "source": [
    "# chu cai dau viet hoa con cac chu con lai viet thuong\n",
    "mystr.capitalize()"
   ]
  },
  {
   "cell_type": "code",
   "execution_count": 33,
   "metadata": {},
   "outputs": [
    {
     "data": {
      "text/plain": [
       "'DAY LA BAI HOC CUA ai viet nam'"
      ]
     },
     "execution_count": 33,
     "metadata": {},
     "output_type": "execute_result"
    }
   ],
   "source": [
    "# Chuyen doi ky tu thuong thanh ky tu hoa va nguoc lai\n",
    "mystr.swapcase()"
   ]
  },
  {
   "cell_type": "code",
   "execution_count": 35,
   "metadata": {},
   "outputs": [
    {
     "data": {
      "text/plain": [
       "'DAY LA BAI HOC CUA AI VIET NAM'"
      ]
     },
     "execution_count": 35,
     "metadata": {},
     "output_type": "execute_result"
    }
   ],
   "source": [
    "# Chuyen cac ky tu chuoi thanh chu hoa\n",
    "mystr.upper()"
   ]
  },
  {
   "cell_type": "code",
   "execution_count": 36,
   "metadata": {},
   "outputs": [
    {
     "data": {
      "text/plain": [
       "'day la bai hoc cua ai viet nam'"
      ]
     },
     "execution_count": 36,
     "metadata": {},
     "output_type": "execute_result"
    }
   ],
   "source": [
    "# chuyen doi cac ki tu chu sang thuong\n",
    "mystr.lower()"
   ]
  },
  {
   "cell_type": "code",
   "execution_count": 37,
   "metadata": {},
   "outputs": [
    {
     "data": {
      "text/plain": [
       "'-----day la bai hoc cua AI VIET NAM-----'"
      ]
     },
     "execution_count": 37,
     "metadata": {},
     "output_type": "execute_result"
    }
   ],
   "source": [
    "# Dua chuoi Ky tu ve giua\n",
    "mystr.center(40,'-')"
   ]
  },
  {
   "cell_type": "code",
   "execution_count": 40,
   "metadata": {},
   "outputs": [
    {
     "data": {
      "text/plain": [
       "'day la bai hoc cua AI VIET NAM'"
      ]
     },
     "execution_count": 40,
     "metadata": {},
     "output_type": "execute_result"
    }
   ],
   "source": [
    "# Loai bo khoang trang giua hai dau chuoi\n",
    "mystr.strip()"
   ]
  },
  {
   "cell_type": "code",
   "execution_count": 41,
   "metadata": {},
   "outputs": [
    {
     "data": {
      "text/plain": [
       "'day la bai hoc cua TTNTVIETNAM'"
      ]
     },
     "execution_count": 41,
     "metadata": {},
     "output_type": "execute_result"
    }
   ],
   "source": [
    "# Thay the chuoi\n",
    "mystr.replace('AI VIET NAM','TTNTVIETNAM')"
   ]
  },
  {
   "cell_type": "code",
   "execution_count": 43,
   "metadata": {},
   "outputs": [
    {
     "data": {
      "text/plain": [
       "('day la bai hoc ', 'cua', ' AI VIET NAM')"
      ]
     },
     "execution_count": 43,
     "metadata": {},
     "output_type": "execute_result"
    }
   ],
   "source": [
    "# Tach chuoi\n",
    "mystr.partition('cua')"
   ]
  },
  {
   "cell_type": "code",
   "execution_count": 44,
   "metadata": {},
   "outputs": [
    {
     "name": "stdout",
     "output_type": "stream",
     "text": [
      "True\n",
      "False\n"
     ]
    }
   ],
   "source": [
    "# Kiem tra phan het thuc cua mot string\n",
    "print(mystr.endswith('VIET NAM'))\n",
    "print(mystr.endswith('bai hoc'))"
   ]
  },
  {
   "cell_type": "code",
   "execution_count": 46,
   "metadata": {},
   "outputs": [
    {
     "name": "stdout",
     "output_type": "stream",
     "text": [
      "True\n",
      "False\n"
     ]
    }
   ],
   "source": [
    "print(mystr.startswith('day'))\n",
    "print(mystr.startswith('AI'))"
   ]
  },
  {
   "cell_type": "code",
   "execution_count": null,
   "metadata": {},
   "outputs": [],
   "source": []
  }
 ],
 "metadata": {
  "kernelspec": {
   "display_name": "Python 3",
   "language": "python",
   "name": "python3"
  },
  "language_info": {
   "codemirror_mode": {
    "name": "ipython",
    "version": 3
   },
   "file_extension": ".py",
   "mimetype": "text/x-python",
   "name": "python",
   "nbconvert_exporter": "python",
   "pygments_lexer": "ipython3",
   "version": "3.7.8"
  }
 },
 "nbformat": 4,
 "nbformat_minor": 4
}
