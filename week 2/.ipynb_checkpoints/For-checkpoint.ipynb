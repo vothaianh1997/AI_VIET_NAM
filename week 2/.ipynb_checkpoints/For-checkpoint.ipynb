{
 "cells": [
  {
   "cell_type": "code",
   "execution_count": 2,
   "metadata": {},
   "outputs": [
    {
     "name": "stdout",
     "output_type": "stream",
     "text": [
      "tao\n",
      "chuoi\n",
      "dua luoi\n",
      "le\n"
     ]
    }
   ],
   "source": [
    "# lam lai mot danh sach \n",
    "traicays = ['tao','chuoi','dua luoi','le']\n",
    "for traicay in traicays:\n",
    "    print(traicay)"
   ]
  },
  {
   "cell_type": "code",
   "execution_count": 4,
   "metadata": {},
   "outputs": [
    {
     "name": "stdout",
     "output_type": "stream",
     "text": [
      "danh_gia 0.1\n",
      "lac_quan Adam\n",
      "do_luong Do_chinh_xac\n"
     ]
    }
   ],
   "source": [
    "# lam lai mot tu dien\n",
    "thamsos = {'danh_gia': 0.1,\n",
    "           'lac_quan':'Adam',\n",
    "           'do_luong': 'Do_chinh_xac'}\n",
    "for khoa in thamsos:\n",
    "    print(khoa, thamsos.get(khoa))"
   ]
  },
  {
   "cell_type": "code",
   "execution_count": 5,
   "metadata": {},
   "outputs": [
    {
     "name": "stdout",
     "output_type": "stream",
     "text": [
      "H\n",
      "e\n",
      "l\n",
      "l\n",
      "o\n"
     ]
    }
   ],
   "source": [
    "# lam lai mot chuoi ky tu\n",
    "xinchao = 'Hello'\n",
    "\n",
    "for kytu in xinchao:\n",
    "    print(kytu)\n"
   ]
  },
  {
   "cell_type": "code",
   "execution_count": 6,
   "metadata": {},
   "outputs": [
    {
     "name": "stdout",
     "output_type": "stream",
     "text": [
      "0\n",
      "1\n",
      "2\n",
      "3\n",
      "4\n"
     ]
    }
   ],
   "source": [
    "# dung range()\n",
    "for i in range(5):\n",
    "    print(i)"
   ]
  },
  {
   "cell_type": "code",
   "execution_count": 9,
   "metadata": {},
   "outputs": [
    {
     "name": "stdout",
     "output_type": "stream",
     "text": [
      "Gia tri i la 0\n",
      "Gia tri i la 1\n",
      "Gia tri i la 2\n",
      "Gia tri i la 3\n",
      "Gia tri i la 4\n"
     ]
    }
   ],
   "source": [
    "# duyet phan tu trong  range(10)\n",
    "for a in range(10):\n",
    "    # hoi phan tu i co bang 5 khong?\n",
    "    if a == 5:\n",
    "        # Neu bang thi thoat vong lap for nay\n",
    "        break\n",
    "    #lam gi do voi 1\n",
    "    print('Gia tri i la', a)"
   ]
  },
  {
   "cell_type": "code",
   "execution_count": 10,
   "metadata": {},
   "outputs": [
    {
     "name": "stdout",
     "output_type": "stream",
     "text": [
      "Gia tri i la : 0\n",
      "Gia tri i la : 1\n",
      "Gia tri i la : 2\n",
      "Gia tri i la : 3\n",
      "Gia tri i la : 4\n",
      "Gia tri i la : 6\n",
      "Gia tri i la : 7\n",
      "Gia tri i la : 8\n",
      "Gia tri i la : 9\n"
     ]
    }
   ],
   "source": [
    "# duyet phan tu trong range(10)\n",
    "for i in range(10):\n",
    "    # hoi phantu i co bang 5 khong\n",
    "    if i == 5:\n",
    "        # neu bang thi goi continue\n",
    "        # phan code sau continue se khong\n",
    "        # duoc thuc thi trong lan lap nay\n",
    "        continue\n",
    "    \n",
    "    #lam gi do voi i\n",
    "    print('Gia tri i la :',i)\n",
    "    "
   ]
  },
  {
   "cell_type": "code",
   "execution_count": 15,
   "metadata": {},
   "outputs": [
    {
     "name": "stdout",
     "output_type": "stream",
     "text": [
      "tong so lan lap: 1000\n",
      "so lan mat sau xuat hien: 486\n",
      "so lan mat truoc xuat hien: 514\n"
     ]
    }
   ],
   "source": [
    "# SIMULATION OF COIN TOSSING\n",
    "import random\n",
    "\n",
    "# tong so lan bung dong xu\n",
    "total_flips = 0\n",
    "\n",
    "# so lan mat sau xuat hien\n",
    "num_tails = 0\n",
    "\n",
    "# so lan mat truoc xuat hien\n",
    "num_heads = 0\n",
    "\n",
    "for _ in range(1000):\n",
    "    # sinh so ngau nhien nam trong khoang (0,1)\n",
    "    n = random.random()\n",
    "    if n < 0.5:\n",
    "        num_tails = num_tails + 1\n",
    "    else:\n",
    "        num_heads = num_heads + 1\n",
    "        \n",
    "    # code o vi tri nay khong thuoc khoi else\n",
    "    total_flips = total_flips + 1\n",
    "    \n",
    "print('tong so lan lap: %d' % total_flips)\n",
    "print('so lan mat sau xuat hien: %d' % num_tails)\n",
    "print('so lan mat truoc xuat hien: %d' % num_heads)"
   ]
  },
  {
   "cell_type": "code",
   "execution_count": 19,
   "metadata": {},
   "outputs": [
    {
     "name": "stdout",
     "output_type": "stream",
     "text": [
      "3.14312\n"
     ]
    }
   ],
   "source": [
    "import random\n",
    "import math\n",
    "\n",
    "# tong so diem p duoc sinh ra\n",
    "N = 100000\n",
    "\n",
    "# so diem thuoc tinh tron\n",
    "N_T = 0\n",
    "# Sinh ra N diem ngau nhien\n",
    "for i in range(N):\n",
    "    # sinh ra x,y thuoc [-1,1].\n",
    "    x = random.random()*2 - 1\n",
    "    y = random.random()*2 - 1\n",
    "    \n",
    "    x2 = x**2\n",
    "    y2 = y**2\n",
    "    \n",
    "    # kiem tra p co nam trong duong tron\n",
    "    if math.sqrt(x2 + y2) <= 1.0:\n",
    "        N_T = N_T + 1\n",
    "# tinh PI\n",
    "pi = (N_T/N)*4\n",
    "print(pi)\n"
   ]
  },
  {
   "cell_type": "code",
   "execution_count": null,
   "metadata": {},
   "outputs": [],
   "source": []
  },
  {
   "cell_type": "code",
   "execution_count": 23,
   "metadata": {},
   "outputs": [
    {
     "name": "stdout",
     "output_type": "stream",
     "text": [
      "3628800\n"
     ]
    }
   ],
   "source": [
    "# ham tinh giai thua\n",
    "def factorial(n):\n",
    "    result = 1\n",
    "    \n",
    "    for i in range(2, n+1):\n",
    "        result = result*i\n",
    "    return result\n",
    "# ham uoc luong so e\n",
    "def estimate_e(n):\n",
    "    result = 1\n",
    "    \n",
    "    for i in range(1, n+1):\n",
    "        result = result*i\n",
    "    \n",
    "    return result\n",
    "# uoc luong so e voi n = 10\n",
    "print(estimate_e)\n",
    "    \n",
    "    \n",
    "    "
   ]
  },
  {
   "cell_type": "code",
   "execution_count": 26,
   "metadata": {},
   "outputs": [
    {
     "name": "stdout",
     "output_type": "stream",
     "text": [
      "3.0\n",
      "1.414213562373095\n"
     ]
    }
   ],
   "source": [
    "def compute_square_root(N, num_loops):\n",
    "    '''\n",
    "    Muc dich cua chuc nang nay dung de tim nghiem nguyen cho N\n",
    "    \n",
    "    N -- so can de tinh nghiem nguyen\n",
    "    num_loops -- so cua vong lap dung cho toi uu\n",
    "    '''\n",
    "    \n",
    "    x_n = N/2.0\n",
    "    \n",
    "    for i in range(num_loops):\n",
    "        x_npl = (x_n + N/x_n) / 2.0\n",
    "        x_n = x_npl\n",
    "    return x_npl\n",
    "print(compute_square_root(N=9, num_loops=10))\n",
    "print(compute_square_root(N=2, num_loops=10))"
   ]
  },
  {
   "cell_type": "code",
   "execution_count": null,
   "metadata": {},
   "outputs": [],
   "source": []
  }
 ],
 "metadata": {
  "kernelspec": {
   "display_name": "Python 3",
   "language": "python",
   "name": "python3"
  },
  "language_info": {
   "codemirror_mode": {
    "name": "ipython",
    "version": 3
   },
   "file_extension": ".py",
   "mimetype": "text/x-python",
   "name": "python",
   "nbconvert_exporter": "python",
   "pygments_lexer": "ipython3",
   "version": "3.7.8"
  }
 },
 "nbformat": 4,
 "nbformat_minor": 4
}
