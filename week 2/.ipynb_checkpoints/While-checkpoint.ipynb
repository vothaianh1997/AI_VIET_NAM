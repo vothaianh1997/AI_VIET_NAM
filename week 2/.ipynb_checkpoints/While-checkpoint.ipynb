{
 "cells": [
  {
   "cell_type": "code",
   "execution_count": 2,
   "metadata": {},
   "outputs": [
    {
     "name": "stdout",
     "output_type": "stream",
     "text": [
      "0\n",
      "1\n",
      "2\n",
      "3\n",
      "4\n",
      "phan code nay nay khi da thoat while\n"
     ]
    }
   ],
   "source": [
    "i = 0\n",
    "\n",
    "# bat dau vong lap while\n",
    "while i<5:\n",
    "    # code trong while\n",
    "    print(i)\n",
    "    i = i + 1\n",
    "print('phan code nay nay khi da thoat while')"
   ]
  },
  {
   "cell_type": "code",
   "execution_count": 4,
   "metadata": {},
   "outputs": [
    {
     "name": "stdout",
     "output_type": "stream",
     "text": [
      "So sinh ra co gia tri la 10\n",
      "So sinh ra co gia tri la 0\n",
      "So sinh ra co gia tri la 5\n",
      "Da thoat  khoi while\n"
     ]
    }
   ],
   "source": [
    "import random\n",
    "\n",
    "# cho vong lap chay vo tan\n",
    "while True:\n",
    "    # sinh so ngau nhien\n",
    "    num = random.randint(0,10)\n",
    "    print('So sinh ra co gia tri la',num)\n",
    "    \n",
    "    # Kiem tra num co bang 5 hay khong?\n",
    "    if num == 5:\n",
    "    # Neu co thi thoat khoi while\n",
    "        break;\n",
    "print('Da thoat  khoi while')"
   ]
  },
  {
   "cell_type": "code",
   "execution_count": null,
   "metadata": {},
   "outputs": [],
   "source": []
  }
 ],
 "metadata": {
  "kernelspec": {
   "display_name": "Python 3",
   "language": "python",
   "name": "python3"
  },
  "language_info": {
   "codemirror_mode": {
    "name": "ipython",
    "version": 3
   },
   "file_extension": ".py",
   "mimetype": "text/x-python",
   "name": "python",
   "nbconvert_exporter": "python",
   "pygments_lexer": "ipython3",
   "version": "3.7.8"
  }
 },
 "nbformat": 4,
 "nbformat_minor": 4
}
