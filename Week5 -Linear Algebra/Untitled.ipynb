{
 "cells": [
  {
   "cell_type": "code",
   "execution_count": 5,
   "metadata": {},
   "outputs": [
    {
     "name": "stdout",
     "output_type": "stream",
     "text": [
      "[6, 8, 7, 9]\n",
      "[15, 20, 19, 21]\n",
      "[24, 32, 31, 33]\n"
     ]
    }
   ],
   "source": [
    "def matrix_multiplication(matrix1, maxtrix2):\n",
    "    '''\n",
    "    Chuc nang la nhan 2 ma tran\n",
    "    #cot cua matrix1 ==# dong cua matrix2\n",
    "    '''\n",
    "    matrix1_nrows = len(matrix1)\n",
    "    matrix1_ncols = len(matrix1[0])\n",
    "    \n",
    "    matrix2_nrows = len(matrix2)\n",
    "    matrix2_ncols = len(matrix2[0])\n",
    "    \n",
    "    # taot\n",
    "    result = [[0]*matrix2_ncols for i in range(matrix1_nrows)]\n",
    "    \n",
    "    for i in range(matrix1_nrows):\n",
    "         for j in range(matrix2_ncols):\n",
    "                for k in range(matrix2_nrows):\n",
    "                    result[i][j] += matrix1[i][k]*matrix2[k][j]\n",
    "    \n",
    "    return result\n",
    "\n",
    "#test case\n",
    "# ma tran 3x3 \n",
    "\n",
    "matrix1 = [[1,2,3],\n",
    "          [4,5,6],\n",
    "          [7,8,9]]\n",
    "# 3x4 matrix\n",
    "matrix2 = [[1,1,2,1],\n",
    "           [1,2,1,1],\n",
    "           [1,1,1,2]]\n",
    "\n",
    "result = matrix_multiplication(matrix1, matrix2)\n",
    "print(result[0])\n",
    "print(result[1])\n",
    "print(result[2])"
   ]
  },
  {
   "cell_type": "code",
   "execution_count": null,
   "metadata": {},
   "outputs": [],
   "source": []
  }
 ],
 "metadata": {
  "kernelspec": {
   "display_name": "Python 3",
   "language": "python",
   "name": "python3"
  },
  "language_info": {
   "codemirror_mode": {
    "name": "ipython",
    "version": 3
   },
   "file_extension": ".py",
   "mimetype": "text/x-python",
   "name": "python",
   "nbconvert_exporter": "python",
   "pygments_lexer": "ipython3",
   "version": "3.7.8"
  }
 },
 "nbformat": 4,
 "nbformat_minor": 4
}
