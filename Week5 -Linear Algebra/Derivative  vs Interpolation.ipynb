{
 "cells": [
  {
   "cell_type": "code",
   "execution_count": 3,
   "metadata": {},
   "outputs": [
    {
     "data": {
      "text/plain": [
       "True"
      ]
     },
     "execution_count": 3,
     "metadata": {},
     "output_type": "execute_result"
    }
   ],
   "source": [
    "import numpy as np\n",
    "import cv2\n",
    "\n",
    "# read image and convert to grays\n",
    "img1 = cv2.imread('/Users/vothaianh/Documents/mrbean.jpeg')\n",
    "\n",
    "# Tính sobel-x\n",
    "sobelx = cv2.Sobel(img1, cv2.CV_64F,1,0)\n",
    "\n",
    "# tính sobel-y\n",
    "sobely = cv2.Sobel(img1, cv2.CV_64F,0,1)\n",
    "\n",
    "# save results\n",
    "cv2.imwrite('mrbean1.jpg', sobelx)\n",
    "cv2.imwrite('mrbean2.jpg', sobely)\n",
    "cv2.imwrite('hinhxam.jpg',img1)"
   ]
  },
  {
   "cell_type": "code",
   "execution_count": 6,
   "metadata": {},
   "outputs": [
    {
     "data": {
      "text/plain": [
       "True"
      ]
     },
     "execution_count": 6,
     "metadata": {},
     "output_type": "execute_result"
    }
   ],
   "source": [
    "#Interpolation\n",
    "# read a color image\n",
    "img = cv2.imread('/Users/vothaianh/Documents/mrbean.jpeg')\n",
    "\n",
    "# get meta-data of the  image\n",
    "height, width, channels = img.shape\n",
    "\n",
    "# New dimension\n",
    "new_dim = (width*4, height*4)\n",
    "\n",
    "# up sampling the image\n",
    "resize_nearest = cv2.resize(img, new_dim, interpolation=cv2.INTER_NEAREST)\n",
    "resize_bilinear = cv2.resize(img, new_dim, interpolation=cv2.INTER_LINEAR)\n",
    "\n",
    "# save results\n",
    "cv2.imwrite('beanInter1.jpg', resize_nearest)\n",
    "cv2.imwrite('beanInter2.jpg', resize_bilinear)"
   ]
  }
 ],
 "metadata": {
  "kernelspec": {
   "display_name": "Python 3",
   "language": "python",
   "name": "python3"
  },
  "language_info": {
   "codemirror_mode": {
    "name": "ipython",
    "version": 3
   },
   "file_extension": ".py",
   "mimetype": "text/x-python",
   "name": "python",
   "nbconvert_exporter": "python",
   "pygments_lexer": "ipython3",
   "version": "3.7.8"
  }
 },
 "nbformat": 4,
 "nbformat_minor": 4
}
