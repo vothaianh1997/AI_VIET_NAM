{
 "cells": [
  {
   "cell_type": "code",
   "execution_count": 3,
   "metadata": {},
   "outputs": [
    {
     "name": "stdout",
     "output_type": "stream",
     "text": [
      "<class 'str'>\n",
      "Bla bla bla\n"
     ]
    }
   ],
   "source": [
    "# ket noi voi file\n",
    "a_file = open('hello_world.txt','r')\n",
    "\n",
    "# doc noi dung cua chuoi\n",
    "data = a_file.read()\n",
    "\n",
    "print(type(data))\n",
    "print(data)\n",
    "\n",
    "# Dong ket noi voi file\n",
    "a_file.close()"
   ]
  },
  {
   "cell_type": "code",
   "execution_count": 6,
   "metadata": {},
   "outputs": [
    {
     "name": "stdout",
     "output_type": "stream",
     "text": [
      "Bla bla bla\n",
      "\n",
      "\n",
      "\n",
      "\n",
      "\n",
      "abcdefg\n",
      "\n"
     ]
    }
   ],
   "source": [
    "# ket noi voi file\n",
    "a_file = open('hello_world.txt', 'r') \n",
    "\n",
    "# doc noi dung trong chuoi\n",
    "lines = a_file.readlines()\n",
    "for line in lines:\n",
    "    print(line)\n",
    "    \n",
    "# Dong ket noi voi file\n",
    "a_file.close()"
   ]
  },
  {
   "cell_type": "code",
   "execution_count": 7,
   "metadata": {},
   "outputs": [],
   "source": [
    "# ket noi voi file\n",
    "a_file = open('new_file.txt', 'w')\n",
    "\n",
    "text1 = 'content in line 1 \\n'\n",
    "a_file.write(text1)\n",
    "\n",
    "text2 = 'content in line2 \\n'\n",
    "a_file.write(text2)\n",
    "\n",
    "# Dong ket noi voi file\n",
    "a_file.close()"
   ]
  },
  {
   "cell_type": "code",
   "execution_count": 8,
   "metadata": {},
   "outputs": [],
   "source": [
    "# ket noi voi file\n",
    "a_file = open('non_exsiting_file.txt', 'a')\n",
    "\n",
    "text3 = 'content in line 3 \\n'\n",
    "a_file.write(text3)\n",
    "\n",
    "# Dong ket noi voi file\n",
    "a_file.close()"
   ]
  },
  {
   "cell_type": "code",
   "execution_count": 12,
   "metadata": {},
   "outputs": [
    {
     "name": "stdout",
     "output_type": "stream",
     "text": [
      "file hello co ton tai ko? True\n",
      "file_ao.txt co ton tai ko False\n"
     ]
    }
   ],
   "source": [
    "import os \n",
    "\n",
    "file_path1 = ('hello_world.txt')\n",
    "check1 = os.path.exists(file_path1)\n",
    "print('file hello co ton tai ko?', check1)\n",
    "\n",
    "file_path2 = 'file_ao.txt'\n",
    "check2 = os.path.exists(file_path2)\n",
    "print('file_ao.txt co ton tai ko', check2)"
   ]
  },
  {
   "cell_type": "code",
   "execution_count": 15,
   "metadata": {},
   "outputs": [
    {
     "name": "stdout",
     "output_type": "stream",
     "text": [
      "001\n",
      "anh\n",
      "18-08-1997\n"
     ]
    }
   ],
   "source": [
    "string1 = '001,anh,18-08-1997'\n",
    "tokens = string1.split(',')\n",
    "\n",
    "for token in tokens:\n",
    "    print(token)"
   ]
  },
  {
   "cell_type": "code",
   "execution_count": 17,
   "metadata": {},
   "outputs": [
    {
     "name": "stdout",
     "output_type": "stream",
     "text": [
      "001,anh,18-08-1997\n"
     ]
    }
   ],
   "source": [
    "student_info = ['001', 'anh', '18-08-1997']\n",
    "string_joined = (',').join(student_info)\n",
    "print(string_joined)"
   ]
  },
  {
   "cell_type": "code",
   "execution_count": 19,
   "metadata": {},
   "outputs": [
    {
     "name": "stdout",
     "output_type": "stream",
     "text": [
      "area,price\n",
      "\n",
      "6.9,9.1\n",
      "\n",
      "4.7,3.6\n",
      "\n",
      "34.5,56.3\n",
      "\n",
      "5.5,6.7\n"
     ]
    }
   ],
   "source": [
    "# ket noi voi file\n",
    "file = open('data.csv', 'r')\n",
    "\n",
    "# read lines\n",
    "lines = file.readlines()\n",
    "\n",
    "# in cac dong \n",
    "for line in lines:\n",
    "    print(line)\n",
    "file.close()"
   ]
  },
  {
   "cell_type": "code",
   "execution_count": 21,
   "metadata": {},
   "outputs": [
    {
     "name": "stdout",
     "output_type": "stream",
     "text": [
      "Petal_Length, Petal_Width, Label\n",
      "\n",
      "1.4,0.2,0.0\n",
      "\n",
      "1.5,0.2,0.0\n",
      "\n",
      "3.0,1.1,1.0\n",
      "\n",
      "4.1,1.3,1.0\n"
     ]
    }
   ],
   "source": [
    "# ket noi voi file\n",
    "file = open('isris_demo.csv', 'r')\n",
    "\n",
    "# read lines\n",
    "lines = file.readlines()\n",
    "\n",
    "# in cac dong \n",
    "for line in lines:\n",
    "    print(line)\n",
    "file.close()"
   ]
  },
  {
   "cell_type": "code",
   "execution_count": null,
   "metadata": {},
   "outputs": [],
   "source": []
  }
 ],
 "metadata": {
  "kernelspec": {
   "display_name": "Python 3",
   "language": "python",
   "name": "python3"
  },
  "language_info": {
   "codemirror_mode": {
    "name": "ipython",
    "version": 3
   },
   "file_extension": ".py",
   "mimetype": "text/x-python",
   "name": "python",
   "nbconvert_exporter": "python",
   "pygments_lexer": "ipython3",
   "version": "3.7.8"
  }
 },
 "nbformat": 4,
 "nbformat_minor": 4
}
