{
 "cells": [
  {
   "cell_type": "code",
   "execution_count": 1,
   "metadata": {},
   "outputs": [
    {
     "name": "stdout",
     "output_type": "stream",
     "text": [
      "1\n",
      "2\n",
      "3\n"
     ]
    }
   ],
   "source": [
    "t = (1,2,3)\n",
    "\n",
    "print(t[0])\n",
    "print(t[1])\n",
    "print(t[2])"
   ]
  },
  {
   "cell_type": "code",
   "execution_count": 2,
   "metadata": {
    "scrolled": true
   },
   "outputs": [
    {
     "name": "stdout",
     "output_type": "stream",
     "text": [
      "a\n",
      "a\n"
     ]
    }
   ],
   "source": [
    "x1,y1,z1 = ('a','b','c')\n",
    "(x2,y2,z2) = ('a','b','c')\n",
    "print(x1)\n",
    "print(x2)"
   ]
  },
  {
   "cell_type": "code",
   "execution_count": 3,
   "metadata": {},
   "outputs": [
    {
     "name": "stdout",
     "output_type": "stream",
     "text": [
      "(1, 2)\n"
     ]
    }
   ],
   "source": [
    "t = 1,2\n",
    "print(t)"
   ]
  },
  {
   "cell_type": "code",
   "execution_count": 4,
   "metadata": {},
   "outputs": [
    {
     "name": "stdout",
     "output_type": "stream",
     "text": [
      "<class 'int'>   15\n",
      "<class 'int'>   1\n",
      "<class 'tuple'>   (1,)\n"
     ]
    }
   ],
   "source": [
    "var1 = (1+2)*5\n",
    "print(type(var1),' ',var1)\n",
    "var2 = (1)\n",
    "print(type(var2),' ',var2)\n",
    "var3 = (1,)\n",
    "print(type(var3),' ',var3)"
   ]
  },
  {
   "cell_type": "code",
   "execution_count": 5,
   "metadata": {},
   "outputs": [
    {
     "name": "stdout",
     "output_type": "stream",
     "text": [
      "(1, 0)\n",
      "(1, 0, 2, 0)\n"
     ]
    }
   ],
   "source": [
    "t1 = (1,0)\n",
    "print(t1)\n",
    "\n",
    "t1 += (2,0)\n",
    "print(t1)"
   ]
  },
  {
   "cell_type": "code",
   "execution_count": 7,
   "metadata": {},
   "outputs": [
    {
     "data": {
      "text/plain": [
       "(1, 1, 1, 1, 1)"
      ]
     },
     "execution_count": 7,
     "metadata": {},
     "output_type": "execute_result"
    }
   ],
   "source": [
    "t = (1,)*5\n",
    "t"
   ]
  },
  {
   "cell_type": "code",
   "execution_count": 8,
   "metadata": {},
   "outputs": [
    {
     "name": "stdout",
     "output_type": "stream",
     "text": [
      "2\n",
      "1\n"
     ]
    }
   ],
   "source": [
    "t = (1,2,3,1)\n",
    "count = t.count(1)\n",
    "index = t.index(2)\n",
    "\n",
    "print(count)\n",
    "print(index)"
   ]
  },
  {
   "cell_type": "code",
   "execution_count": 9,
   "metadata": {},
   "outputs": [
    {
     "data": {
      "text/plain": [
       "4"
      ]
     },
     "execution_count": 9,
     "metadata": {},
     "output_type": "execute_result"
    }
   ],
   "source": [
    "t = (1, 2, 3, 4)\n",
    "len(t)"
   ]
  },
  {
   "cell_type": "code",
   "execution_count": 10,
   "metadata": {},
   "outputs": [
    {
     "name": "stdout",
     "output_type": "stream",
     "text": [
      "1\n",
      "5\n",
      "15\n"
     ]
    }
   ],
   "source": [
    "t = (1, 2, 3, 4, 5)\n",
    "\n",
    "print(min(t))\n",
    "print(max(t))\n",
    "print(sum(t))\n"
   ]
  },
  {
   "cell_type": "code",
   "execution_count": 12,
   "metadata": {},
   "outputs": [
    {
     "name": "stdout",
     "output_type": "stream",
     "text": [
      "(1, 2, 3, 4, 5)\n",
      "('a', 'b', 'c', 'd', 'e')\n",
      "1 a\n",
      "2 b\n",
      "3 c\n",
      "4 d\n",
      "5 e\n"
     ]
    }
   ],
   "source": [
    "# Dung Zip cho tuple\n",
    "t1 = (1, 2, 3, 4, 5)\n",
    "t2 = ('a','b','c','d','e')\n",
    "\n",
    "print(t1) \n",
    "print(t2)\n",
    "\n",
    "t3 = zip(t1,t2)\n",
    "for x,y in t3:\n",
    "    print(x,y)"
   ]
  },
  {
   "cell_type": "code",
   "execution_count": 13,
   "metadata": {
    "scrolled": true
   },
   "outputs": [
    {
     "name": "stdout",
     "output_type": "stream",
     "text": [
      "[3, 4, 6, 7, 9]\n"
     ]
    }
   ],
   "source": [
    "t = (4, 7, 3, 9, 6)\n",
    "t_s = sorted(t)\n",
    "print(t_s)"
   ]
  },
  {
   "cell_type": "code",
   "execution_count": 14,
   "metadata": {},
   "outputs": [
    {
     "ename": "SyntaxError",
     "evalue": "can't assign to function call (<ipython-input-14-cc541f223914>, line 2)",
     "output_type": "error",
     "traceback": [
      "\u001b[0;36m  File \u001b[0;32m\"<ipython-input-14-cc541f223914>\"\u001b[0;36m, line \u001b[0;32m2\u001b[0m\n\u001b[0;31m    t(2) = 7\u001b[0m\n\u001b[0m             ^\u001b[0m\n\u001b[0;31mSyntaxError\u001b[0m\u001b[0;31m:\u001b[0m can't assign to function call\n"
     ]
    }
   ],
   "source": [
    "t = (2,3,4,5)\n",
    "t(2) = 7 \n",
    "print(t)"
   ]
  },
  {
   "cell_type": "code",
   "execution_count": 15,
   "metadata": {},
   "outputs": [
    {
     "name": "stdout",
     "output_type": "stream",
     "text": [
      "(1, 2, [3, 4])\n"
     ]
    }
   ],
   "source": [
    "t = (1, 2, [3, 10])\n",
    "t[2][1] = 4\n",
    "print(t)"
   ]
  },
  {
   "cell_type": "code",
   "execution_count": 24,
   "metadata": {},
   "outputs": [],
   "source": [
    "# Giai Phuong trinh bac 2\n",
    "import math\n",
    "\n",
    "def quadratic_equation(a, b, c):\n",
    "    '''\n",
    "    Chuc nang cua doan nay dung de giai phuong trinh bac 2\n",
    "    a,b,c --- 3 tham so  nay voi a#0\n",
    "    '''\n",
    "    # compute delta\n",
    "    delta = b*b - 4*a*c\n",
    "    \n",
    "    if delta < 0:\n",
    "        return ()\n",
    "    elif delta == 0:\n",
    "        x = -b/2*a\n",
    "        return (x,)\n",
    "    else:\n",
    "        x1 = (-b+math.sqrt(delta))/(2*a)\n",
    "        x2 = (-b-math.sqrt(delta))/(2*a)\n",
    "        return (x1,x2)\n"
   ]
  },
  {
   "cell_type": "code",
   "execution_count": 25,
   "metadata": {},
   "outputs": [
    {
     "name": "stdout",
     "output_type": "stream",
     "text": [
      "<class 'tuple'>\n",
      "2\n",
      "(-0.276393202250021, -0.7236067977499789)\n"
     ]
    }
   ],
   "source": [
    "result = quadratic_equation(a=5, b=5, c=1)\n",
    "print(type(result))\n",
    "print(len(result))\n",
    "print(result)"
   ]
  },
  {
   "cell_type": "code",
   "execution_count": 27,
   "metadata": {},
   "outputs": [
    {
     "name": "stdout",
     "output_type": "stream",
     "text": [
      "<class 'tuple'>\n",
      "0\n",
      "()\n"
     ]
    }
   ],
   "source": [
    "result = quadratic_equation(a=5, b=0, c=1)\n",
    "print(type(result))\n",
    "print(len(result))\n",
    "print(result)"
   ]
  },
  {
   "cell_type": "code",
   "execution_count": 28,
   "metadata": {},
   "outputs": [
    {
     "name": "stdout",
     "output_type": "stream",
     "text": [
      "<class 'tuple'>\n",
      "1\n",
      "(-8.0,)\n"
     ]
    }
   ],
   "source": [
    "result = quadratic_equation(a=4, b=4, c=1)\n",
    "print(type(result))\n",
    "print(len(result))\n",
    "print(result)"
   ]
  },
  {
   "cell_type": "code",
   "execution_count": 31,
   "metadata": {},
   "outputs": [
    {
     "name": "stdout",
     "output_type": "stream",
     "text": [
      "{1, 2, 3, 4, 5}\n",
      "<class 'set'>\n"
     ]
    }
   ],
   "source": [
    "a_set = {1,2,3,4,5}\n",
    "print(a_set)\n",
    "print(type(a_set))"
   ]
  },
  {
   "cell_type": "code",
   "execution_count": 32,
   "metadata": {},
   "outputs": [
    {
     "name": "stdout",
     "output_type": "stream",
     "text": [
      "{1, 2, 3, 4, 5}\n",
      "{1, 2, 3, 4, 5, 6}\n"
     ]
    }
   ],
   "source": [
    "a_set = {1, 2, 3, 4, 5 }\n",
    "print(a_set)\n",
    "\n",
    "a_set.add(6)\n",
    "print(a_set)"
   ]
  },
  {
   "cell_type": "code",
   "execution_count": 33,
   "metadata": {},
   "outputs": [
    {
     "name": "stdout",
     "output_type": "stream",
     "text": [
      "{1, 2, 3, 4, 5}\n",
      "{1, 2, 3, 4, 5}\n"
     ]
    }
   ],
   "source": [
    "a_set = {1,2,3,4,5,}\n",
    "print(a_set)\n",
    "\n",
    "a_set.add(2)\n",
    "print(a_set)"
   ]
  },
  {
   "cell_type": "code",
   "execution_count": 55,
   "metadata": {},
   "outputs": [
    {
     "name": "stdout",
     "output_type": "stream",
     "text": [
      "{'learning_rate': 0.1, 'optimizer': 'Adam', 'metric': 'Accurary'}\n",
      "<class 'dict'>\n"
     ]
    }
   ],
   "source": [
    "parameters = {'learning_rate': 0.1,\n",
    "              'optimizer': 'Adam',\n",
    "              'metric':'Accurary'}\n",
    "print(parameters)\n",
    "print(type(parameters))"
   ]
  },
  {
   "cell_type": "code",
   "execution_count": 41,
   "metadata": {},
   "outputs": [
    {
     "name": "stdout",
     "output_type": "stream",
     "text": [
      "{'learning_rate': 0.2, 'metric': 'Accurary'}\n"
     ]
    }
   ],
   "source": [
    "parameters = {'learning_rate':0.1,\n",
    "              'metric':'Accurary'}\n",
    "parameters['learning_rate'] = 0.2\n",
    "print(parameters)"
   ]
  },
  {
   "cell_type": "code",
   "execution_count": 42,
   "metadata": {},
   "outputs": [
    {
     "name": "stdout",
     "output_type": "stream",
     "text": [
      "{'learning_rate': 0.1, 'metric': 'Accurary'}\n",
      "{'learning_rate': 0.2, 'metric': 'Accurary'}\n"
     ]
    }
   ],
   "source": [
    "parameters = {'learning_rate':0.1,\n",
    "              'metric':'Accurary'}\n",
    "a_copy = parameters.copy()\n",
    "a_copy['learning_rate'] = 0.2\n",
    "print(parameters)\n",
    "print(a_copy)"
   ]
  },
  {
   "cell_type": "code",
   "execution_count": 44,
   "metadata": {},
   "outputs": [
    {
     "name": "stdout",
     "output_type": "stream",
     "text": [
      "d1: {'a': [4, 6], 'b': 5}\n",
      "d2: {'a': [4, 6], 'b': 5}\n"
     ]
    }
   ],
   "source": [
    "d1 = {'a':[1,2],'b':5}\n",
    "d2 = d1.copy()\n",
    "\n",
    "# thay doi gia tri d2 se anh huong den d1\n",
    "d2['a'][0] = 4\n",
    "d2['a'][1] = 6\n",
    "print('d1:', d1)\n",
    "print('d2:', d2)"
   ]
  },
  {
   "cell_type": "code",
   "execution_count": 47,
   "metadata": {},
   "outputs": [
    {
     "name": "stdout",
     "output_type": "stream",
     "text": [
      "d1: {'a': [1, 2], 'b': 5}\n",
      "d2: {'a': [23, 44], 'b': 5}\n"
     ]
    }
   ],
   "source": [
    "import copy\n",
    " \n",
    "d1 = {'a':[1,2],'b':5}\n",
    "d2 =  copy.deepcopy(d1)\n",
    "\n",
    "#thay doi gia tri d2\n",
    "d2['a'][0] = 23 \n",
    "d2['a'][1] = 44\n",
    "\n",
    "print('d1:', d1)\n",
    "print('d2:', d2)"
   ]
  },
  {
   "cell_type": "code",
   "execution_count": 50,
   "metadata": {},
   "outputs": [
    {
     "name": "stdout",
     "output_type": "stream",
     "text": [
      "learning_rate\n",
      "optimizer\n",
      "metric\n"
     ]
    }
   ],
   "source": [
    "keys = parameters.keys()\n",
    "for key in keys:\n",
    "    print(key)hoa\n",
    "# dung de lay k"
   ]
  },
  {
   "cell_type": "code",
   "execution_count": 51,
   "metadata": {},
   "outputs": [
    {
     "name": "stdout",
     "output_type": "stream",
     "text": [
      "0.1\n",
      "Adam\n",
      "Accurary\n"
     ]
    }
   ],
   "source": [
    "values = parameters.values()\n",
    "for value in values:\n",
    "    print(value)\n",
    "# dung de lay du lieu"
   ]
  },
  {
   "cell_type": "code",
   "execution_count": 52,
   "metadata": {},
   "outputs": [
    {
     "name": "stdout",
     "output_type": "stream",
     "text": [
      "0.1\n",
      "\n",
      "Sau khi su dung get()\n",
      "{'learning_rate': 0.1, 'optimizer': 'Adam', 'metric': 'Accurary'}\n"
     ]
    }
   ],
   "source": [
    "# dung get() de lay du lieu\n",
    "value = parameters.get('learning_rate')\n",
    "print(value)\n",
    "\n",
    "print('\\nSau khi su dung get()')\n",
    "print(parameters)"
   ]
  },
  {
   "cell_type": "code",
   "execution_count": 53,
   "metadata": {},
   "outputs": [
    {
     "name": "stdout",
     "output_type": "stream",
     "text": [
      "0.1\n",
      "\n",
      "Sau khi su dung get()\n",
      "{'optimizer': 'Adam', 'metric': 'Accurary'}\n"
     ]
    }
   ],
   "source": [
    "# dung pop() de xoa du lieu\n",
    "value = parameters.pop('learning_rate')\n",
    "print(value)\n",
    "\n",
    "print('\\nSau khi su dung get()')\n",
    "print(parameters)"
   ]
  },
  {
   "cell_type": "code",
   "execution_count": 56,
   "metadata": {
    "scrolled": true
   },
   "outputs": [
    {
     "name": "stdout",
     "output_type": "stream",
     "text": [
      "('metric', 'Accurary')\n",
      "{'learning_rate': 0.1, 'optimizer': 'Adam'}\n"
     ]
    }
   ],
   "source": [
    "# Dung popitem() de lay phan tu  cuoi cung\n",
    "item = parameters.popitem()\n",
    "\n",
    "print(item)\n",
    "print(parameters)"
   ]
  },
  {
   "cell_type": "code",
   "execution_count": 58,
   "metadata": {},
   "outputs": [
    {
     "name": "stdout",
     "output_type": "stream",
     "text": [
      "{'learning_rate': 0.1, 'optimizer': 'Adam'}\n",
      "{}\n"
     ]
    }
   ],
   "source": [
    "# dung clear()\n",
    "value = copy.deepcopy(parameters)\n",
    "print(value)\n",
    "\n",
    "value.clear()\n",
    "print(value)"
   ]
  },
  {
   "cell_type": "code",
   "execution_count": 59,
   "metadata": {},
   "outputs": [
    {
     "name": "stdout",
     "output_type": "stream",
     "text": [
      "{'optimizer': 'Adam'}\n"
     ]
    }
   ],
   "source": [
    "value = copy.deepcopy(parameters)\n",
    "\n",
    "del value['learning_rate']\n",
    "print(value)"
   ]
  },
  {
   "cell_type": "code",
   "execution_count": null,
   "metadata": {},
   "outputs": [],
   "source": []
  }
 ],
 "metadata": {
  "kernelspec": {
   "display_name": "Python 3",
   "language": "python",
   "name": "python3"
  },
  "language_info": {
   "codemirror_mode": {
    "name": "ipython",
    "version": 3
   },
   "file_extension": ".py",
   "mimetype": "text/x-python",
   "name": "python",
   "nbconvert_exporter": "python",
   "pygments_lexer": "ipython3",
   "version": "3.7.8"
  }
 },
 "nbformat": 4,
 "nbformat_minor": 4
}
