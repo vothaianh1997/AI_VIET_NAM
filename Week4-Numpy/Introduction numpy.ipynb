{
 "cells": [
  {
   "cell_type": "code",
   "execution_count": 1,
   "metadata": {},
   "outputs": [],
   "source": [
    "import tensorflow as tf\n",
    "import numpy as np"
   ]
  },
  {
   "cell_type": "code",
   "execution_count": 5,
   "metadata": {},
   "outputs": [
    {
     "name": "stdout",
     "output_type": "stream",
     "text": [
      "[0 1 2 3 4 5 6 7 8 9]\n",
      "(10,)\n",
      "-------------\n"
     ]
    }
   ],
   "source": [
    "# create a numpy array\n",
    "arr_np = np.arange(10)\n",
    "print(arr_np)\n",
    "print(arr_np.shape)\n",
    "print('-------------')"
   ]
  },
  {
   "cell_type": "code",
   "execution_count": 6,
   "metadata": {},
   "outputs": [
    {
     "name": "stdout",
     "output_type": "stream",
     "text": [
      "tf.Tensor([0 1 2 3 4 5 6 7 8 9], shape=(10,), dtype=int64)\n",
      "(10,)\n",
      "--------------\n"
     ]
    }
   ],
   "source": [
    "# convert from numpy array to tensor\n",
    "arr_tf = tf.convert_to_tensor(arr_np)\n",
    "print(arr_tf)\n",
    "print(arr_tf.shape)\n",
    "print('--------------')"
   ]
  },
  {
   "cell_type": "code",
   "execution_count": 7,
   "metadata": {},
   "outputs": [
    {
     "name": "stdout",
     "output_type": "stream",
     "text": [
      "[0 1 2 3 4 5 6 7 8 9]\n",
      "(10,)\n"
     ]
    }
   ],
   "source": [
    "# convert from tensor to numpy array\n",
    "arr_np_back = arr_tf.numpy()\n",
    "print(arr_np_back)\n",
    "print(arr_np_back.shape)"
   ]
  },
  {
   "cell_type": "code",
   "execution_count": null,
   "metadata": {
    "collapsed": true
   },
   "outputs": [],
   "source": []
  },
  {
   "cell_type": "code",
   "execution_count": 15,
   "metadata": {},
   "outputs": [
    {
     "name": "stdout",
     "output_type": "stream",
     "text": [
      "[1 2 3]\n",
      "[1 2 3]\n",
      "[[1 2]\n",
      " [3 4]\n",
      " [5 6]]\n",
      "[[[1 6]\n",
      "  [2 2]\n",
      "  [3 4]]\n",
      "\n",
      " [[4 7]\n",
      "  [5 3]\n",
      "  [6 9]]\n",
      "\n",
      " [[7 7]\n",
      "  [8 2]\n",
      "  [9 3]]]\n"
     ]
    }
   ],
   "source": [
    "#Common attributes\n",
    "import numpy as np\n",
    "\n",
    "# tao list\n",
    "l = list(range(1,4))\n",
    "\n",
    "list1D = [1,2,3]\n",
    "\n",
    "list2D = [[1,2],[3,4],[5,6]]\n",
    "\n",
    "list3D = [[[1,6],[2,2],[3,4]],\n",
    "          [[4,7],[5,3],[6,9]],\n",
    "          [[7,7],[8,2],[9,3]]]\n",
    "# tao ndarray\n",
    "data = np.array(l)\n",
    "data1 = np.array(list1D)\n",
    "data2 = np.array(list2D)\n",
    "data3 = np.array(list3D)\n",
    "\n",
    "print(data)\n",
    "print(data1)\n",
    "print(data2)\n",
    "print(data3)"
   ]
  },
  {
   "cell_type": "code",
   "execution_count": 17,
   "metadata": {},
   "outputs": [
    {
     "name": "stdout",
     "output_type": "stream",
     "text": [
      "[1 2 3]\n",
      "[8 2 3]\n"
     ]
    }
   ],
   "source": [
    "#Thay doi gia tri phan tu\n",
    "import numpy as np\n",
    "\n",
    "#Create list\n",
    "l = list(range(1,4))\n",
    "\n",
    "#tao ndarray\n",
    "data = np.array(l)\n",
    "print(data)\n",
    "data[0] = 8\n",
    "print(data)"
   ]
  },
  {
   "cell_type": "code",
   "execution_count": 19,
   "metadata": {},
   "outputs": [
    {
     "name": "stdout",
     "output_type": "stream",
     "text": [
      "[[0. 0. 0.]\n",
      " [0. 0. 0.]]\n"
     ]
    }
   ],
   "source": [
    "# tao mot numpy array\n",
    "# voi phan tu la 0\n",
    "import numpy as np\n",
    "# shape: 2 dong , 3 cot\n",
    "arr = np.zeros((2,3))\n",
    "print(arr)"
   ]
  },
  {
   "cell_type": "code",
   "execution_count": 21,
   "metadata": {},
   "outputs": [
    {
     "name": "stdout",
     "output_type": "stream",
     "text": [
      "[[1. 1. 1.]\n",
      " [1. 1. 1.]]\n"
     ]
    }
   ],
   "source": [
    "# tao mot numpy array voi\n",
    "# numpy.ones(shape)\n",
    "#shape: 2 dong 3 cot\n",
    "arr = np.ones((2,3))\n",
    "print(arr)"
   ]
  },
  {
   "cell_type": "code",
   "execution_count": 22,
   "metadata": {},
   "outputs": [
    {
     "name": "stdout",
     "output_type": "stream",
     "text": [
      "[[9 9 9]\n",
      " [9 9 9]]\n"
     ]
    }
   ],
   "source": [
    "arr = np.full((2,3),9)\n",
    "print(arr)"
   ]
  },
  {
   "cell_type": "code",
   "execution_count": 23,
   "metadata": {},
   "outputs": [
    {
     "name": "stdout",
     "output_type": "stream",
     "text": [
      "[0 1 2 3 4]\n",
      "[0 2 4]\n"
     ]
    }
   ],
   "source": [
    "#tao array\n",
    "arr1 = np.arange(5)\n",
    "print(arr1)\n",
    "\n",
    "arr2 = np.arange(0,5,2)\n",
    "print(arr2)"
   ]
  },
  {
   "cell_type": "code",
   "execution_count": 25,
   "metadata": {},
   "outputs": [
    {
     "name": "stdout",
     "output_type": "stream",
     "text": [
      "[[1. 0. 0.]\n",
      " [0. 1. 0.]\n",
      " [0. 0. 1.]]\n"
     ]
    }
   ],
   "source": [
    "# tao arrray voi duong cheo la so 1\n",
    "\n",
    "arr = np.eye(3)\n",
    "print(arr)"
   ]
  },
  {
   "cell_type": "code",
   "execution_count": 27,
   "metadata": {},
   "outputs": [
    {
     "name": "stdout",
     "output_type": "stream",
     "text": [
      "[[0.28661374 0.47335996 0.26492827]\n",
      " [0.14078698 0.61797128 0.27597937]]\n"
     ]
    }
   ],
   "source": [
    "#phan tu co gia tri ngau nhien\n",
    "arr = np.random.random((2,3))\n",
    "print(arr)"
   ]
  },
  {
   "cell_type": "code",
   "execution_count": 28,
   "metadata": {},
   "outputs": [
    {
     "name": "stdout",
     "output_type": "stream",
     "text": [
      "5\n",
      "False\n",
      "10\n"
     ]
    }
   ],
   "source": [
    "arr = np.array(5)\n",
    "print(arr)\n",
    "\n",
    "condition = arr < 3\n",
    "out =np.where(condition, arr, arr*2)\n",
    "\n",
    "print(condition)\n",
    "print(out)"
   ]
  },
  {
   "cell_type": "code",
   "execution_count": 29,
   "metadata": {},
   "outputs": [
    {
     "name": "stdout",
     "output_type": "stream",
     "text": [
      "[[1 2]\n",
      " [3 4]]\n",
      "[1 2 3 4]\n"
     ]
    }
   ],
   "source": [
    "arr = np.array([[1,2],[3,4]])\n",
    "out = arr.flatten()\n",
    "\n",
    "print(arr)\n",
    "print(out)"
   ]
  },
  {
   "cell_type": "code",
   "execution_count": null,
   "metadata": {},
   "outputs": [],
   "source": [
    "# tao list\n",
    "l =[[1,2,3],\n",
    "    [4,5,6]]\n",
    "# Tao ndarray\n",
    "data = np.array(l)\n",
    "print('data\\n', data)\n",
    "print('data shape\\n', data.shape)\n",
    "\n",
    "#reshape\n",
    "data_rs = np.reshape(data,(3,2))\n",
    "print('data_rs\\n', data_rs)\n",
    "print('data_rs shape\\n'. data_rs)"
   ]
  }
 ],
 "metadata": {
  "kernelspec": {
   "display_name": "Python 3",
   "language": "python",
   "name": "python3"
  },
  "language_info": {
   "codemirror_mode": {
    "name": "ipython",
    "version": 3
   },
   "file_extension": ".py",
   "mimetype": "text/x-python",
   "name": "python",
   "nbconvert_exporter": "python",
   "pygments_lexer": "ipython3",
   "version": "3.7.8"
  }
 },
 "nbformat": 4,
 "nbformat_minor": 4
}
