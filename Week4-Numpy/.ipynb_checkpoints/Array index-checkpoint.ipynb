{
 "cells": [
  {
   "cell_type": "code",
   "execution_count": null,
   "metadata": {},
   "outputs": [],
   "source": []
  },
  {
   "cell_type": "code",
   "execution_count": 1,
   "metadata": {},
   "outputs": [],
   "source": [
    "import numpy as np"
   ]
  },
  {
   "cell_type": "code",
   "execution_count": 5,
   "metadata": {},
   "outputs": [],
   "source": [
    "a_arr = np.array([[1,2,3],\n",
    "                  [5,6,7]])\n",
    "b_arr = a_arr[:,1:3]"
   ]
  },
  {
   "cell_type": "code",
   "execution_count": 6,
   "metadata": {},
   "outputs": [
    {
     "name": "stdout",
     "output_type": "stream",
     "text": [
      "[[1 2 3]\n",
      " [5 6 7]]\n",
      "[[2 3]\n",
      " [6 7]]\n"
     ]
    }
   ],
   "source": [
    "print(a_arr)\n",
    "print(b_arr)"
   ]
  },
  {
   "cell_type": "code",
   "execution_count": 8,
   "metadata": {},
   "outputs": [
    {
     "name": "stdout",
     "output_type": "stream",
     "text": [
      "a_arr \n",
      " [[1 2 3]\n",
      " [5 6 7]]\n",
      "b_arr [[2 3]\n",
      " [6 7]]\n",
      "before changing \n",
      " 2\n",
      "after changing \n",
      " 99\n"
     ]
    }
   ],
   "source": [
    "a_arr = np.array([[1,2,3],\n",
    "                  [5,6,7]])\n",
    "print('a_arr \\n', a_arr)\n",
    "b_arr = a_arr[:, 1:3]\n",
    "print('b_arr',b_arr)\n",
    "\n",
    "print('before changing \\n', a_arr[0,1])\n",
    "b_arr[0,0]=99\n",
    "print('after changing \\n',a_arr[0, 1])\n"
   ]
  },
  {
   "cell_type": "code",
   "execution_count": 10,
   "metadata": {},
   "outputs": [
    {
     "name": "stdout",
     "output_type": "stream",
     "text": [
      "[5 6 7] (3,)\n",
      "[[5 6 7]] (1, 3)\n"
     ]
    }
   ],
   "source": [
    "arr = np.array([[1,2,3],\n",
    "                [5,6,7],\n",
    "                [9,10,11]])\n",
    "# Hai cach truy cap du lieu o cot index=1 cua mang\n",
    "\n",
    "row_m1 = arr[1,:]\n",
    "row_m2 = arr[1:2, :]\n",
    "print(row_m1, row_m1.shape)\n",
    "print(row_m2,row_m2.shape)"
   ]
  },
  {
   "cell_type": "code",
   "execution_count": 13,
   "metadata": {},
   "outputs": [
    {
     "name": "stdout",
     "output_type": "stream",
     "text": [
      "[ 2  6 10] (3,)\n",
      "[[ 2]\n",
      " [ 6]\n",
      " [10]] (3, 1)\n"
     ]
    }
   ],
   "source": [
    "arr = np.array([[1,2,3],\n",
    "                [5,6,7],\n",
    "                [9,10,11]])\n",
    "# Hai cach truy cap du lieu o cot index=1 cua mang\n",
    "\n",
    "row_m1 = arr[:, 1]\n",
    "row_m2 = arr[:, 1:2]\n",
    "print(row_m1, row_m1.shape)\n",
    "print(row_m2,row_m2.shape)"
   ]
  },
  {
   "cell_type": "code",
   "execution_count": 12,
   "metadata": {},
   "outputs": [
    {
     "name": "stdout",
     "output_type": "stream",
     "text": [
      "out1 [1 6 9]\n",
      "out2:\n",
      " [2 2]\n"
     ]
    }
   ],
   "source": [
    "# lay gia tri ()\n",
    "out1 = arr[[0,1,2], [0,1,0]]\n",
    "print('out1', out1)\n",
    " \n",
    "out2 = arr[[0,0],[1,1]]\n",
    "print('out2:\\n',out2)"
   ]
  },
  {
   "cell_type": "code",
   "execution_count": 14,
   "metadata": {},
   "outputs": [
    {
     "name": "stdout",
     "output_type": "stream",
     "text": [
      "[[1 2]\n",
      " [3 4]\n",
      " [5 6]]\n",
      "[[False False]\n",
      " [ True  True]\n",
      " [ True  True]]\n"
     ]
    }
   ],
   "source": [
    "arr = np.array([[1,2],\n",
    "                [3,4],\n",
    "                [5,6]])\n",
    "print(arr)\n",
    "\n",
    "# tm cac phan tu lon hon 2\n",
    "bool_idx = (arr > 2)\n",
    "print(bool_idx)"
   ]
  },
  {
   "cell_type": "code",
   "execution_count": 15,
   "metadata": {},
   "outputs": [
    {
     "name": "stdout",
     "output_type": "stream",
     "text": [
      "data x \n",
      " [1 2 3 4]\n",
      "data y \n",
      " [5 6 7 8]\n",
      "method 1 \n",
      " [ 6  8 10 12]\n",
      "method 2 \n",
      " [ 6  8 10 12]\n"
     ]
    }
   ],
   "source": [
    "x = np.array([1,2,3,4])\n",
    "y = np.array([5,6,7,8])\n",
    "\n",
    "print('data x \\n', x)\n",
    "print('data y \\n', y)\n",
    "\n",
    "# Tong cua 2 mang\n",
    "print('method 1 \\n', x+y)\n",
    "print('method 2 \\n', np.add(x,y))"
   ]
  },
  {
   "cell_type": "code",
   "execution_count": 18,
   "metadata": {},
   "outputs": [
    {
     "name": "stdout",
     "output_type": "stream",
     "text": [
      "method 1 \n",
      " [0.2        0.33333333 0.42857143 0.5       ]\n",
      "method 2 \n",
      " [0 0 0 0]\n",
      "method 3 \n",
      " [0.2        0.33333333 0.42857143 0.5       ]\n"
     ]
    }
   ],
   "source": [
    "# phep chia cac tung phan tuong ung x cho y\n",
    "print('method 1 \\n', x/y)\n",
    "print('method 2 \\n', x//y)\n",
    "print('method 3 \\n', np.divide(x, y))"
   ]
  },
  {
   "cell_type": "code",
   "execution_count": 20,
   "metadata": {},
   "outputs": [
    {
     "name": "stdout",
     "output_type": "stream",
     "text": [
      "data \n",
      " [1 2 3 4]\n",
      "sqrt \n",
      " [1.         1.41421356 1.73205081 2.        ]\n"
     ]
    }
   ],
   "source": [
    "# can bac 2 tung phan tu trong data\n",
    "data = np.array([1,2,3,4])\n",
    "print('data \\n',data)\n",
    "print('sqrt \\n',np.sqrt(data))"
   ]
  },
  {
   "cell_type": "code",
   "execution_count": 21,
   "metadata": {},
   "outputs": [
    {
     "name": "stdout",
     "output_type": "stream",
     "text": [
      "method 1 \n",
      " 8\n",
      "method 2 \n",
      " 8\n"
     ]
    }
   ],
   "source": [
    "v = np.array([1, 2])\n",
    "w = np.array([2, 3])\n",
    "\n",
    "#Tinh inner product giua v va w\n",
    "print('method 1 \\n', v.dot(w))\n",
    "print('method 2 \\n', np.dot(v, w))"
   ]
  },
  {
   "cell_type": "code",
   "execution_count": 22,
   "metadata": {},
   "outputs": [
    {
     "name": "stdout",
     "output_type": "stream",
     "text": [
      "matrix X \n",
      " [[1 2]\n",
      " [3 4]]\n",
      "vector v \n",
      " [1 2]\n",
      "method 1: X.dot(v)\n",
      " [ 5 11]\n",
      "method 1: v.dot(X)\n",
      " [ 7 10]\n"
     ]
    }
   ],
   "source": [
    "X = np.array([[1,2],\n",
    "              [3,4]])\n",
    "v = np.array([1,2])\n",
    "\n",
    "print('matrix X \\n',X)\n",
    "print('vector v \\n',v)\n",
    "\n",
    "# phep nhan giua ma tran va vector\n",
    "print('method 1: X.dot(v)\\n', X.dot(v))\n",
    "print('method 1: v.dot(X)\\n', v.dot(X))"
   ]
  },
  {
   "cell_type": "code",
   "execution_count": 24,
   "metadata": {},
   "outputs": [
    {
     "name": "stdout",
     "output_type": "stream",
     "text": [
      "method 1 \n",
      " [[ 6  5]\n",
      " [14 13]]\n",
      "method 1 \n",
      " [[11 16]\n",
      " [ 5  8]]\n"
     ]
    }
   ],
   "source": [
    "Y = np.array([[2,3],\n",
    "              [2,1]])\n",
    "print('method 1 \\n', X.dot(Y))\n",
    "print('method 1 \\n',Y.dot(X))"
   ]
  },
  {
   "cell_type": "code",
   "execution_count": 25,
   "metadata": {},
   "outputs": [
    {
     "name": "stdout",
     "output_type": "stream",
     "text": [
      "10\n",
      "[4 6]\n",
      "[3 7]\n"
     ]
    }
   ],
   "source": [
    "X = np.array([[1,2],\n",
    "              [3,4]])\n",
    "print(np.sum(X))\n",
    "# Tong theo cot\n",
    "print(np.sum(X, axis=0))\n",
    "print(np.sum(X, axis=1))"
   ]
  },
  {
   "cell_type": "code",
   "execution_count": 26,
   "metadata": {},
   "outputs": [
    {
     "name": "stdout",
     "output_type": "stream",
     "text": [
      "3\n",
      "1\n"
     ]
    }
   ],
   "source": [
    "data = np.array([1,2,3])\n",
    "print(data.max())\n",
    "print(data.min())"
   ]
  },
  {
   "cell_type": "code",
   "execution_count": 30,
   "metadata": {},
   "outputs": [
    {
     "name": "stdout",
     "output_type": "stream",
     "text": [
      "[1 2 3]\n",
      "[2 4 6]\n",
      "[-1  0  1]\n"
     ]
    }
   ],
   "source": [
    "# nhan va tru vs 1 so\n",
    "factor =2\n",
    "result_multiplication = data*factor\n",
    "result_minus = data - factor\n",
    "\n",
    "print(data) \n",
    "print(result_multiplication)\n",
    "print(result_minus)"
   ]
  },
  {
   "cell_type": "code",
   "execution_count": 32,
   "metadata": {},
   "outputs": [
    {
     "name": "stdout",
     "output_type": "stream",
     "text": [
      "[[ 2  2  4]\n",
      " [ 5  5  7]\n",
      " [ 8  8 10]]\n"
     ]
    }
   ],
   "source": [
    "X = np.array([[1,2,3],\n",
    "              [4,5,6],\n",
    "              [7,8,9]])\n",
    "v = np.array([1, 0, 1])\n",
    "\n",
    "Y = X +v\n",
    "print(Y)"
   ]
  },
  {
   "cell_type": "code",
   "execution_count": null,
   "metadata": {},
   "outputs": [],
   "source": []
  }
 ],
 "metadata": {
  "kernelspec": {
   "display_name": "Python 3",
   "language": "python",
   "name": "python3"
  },
  "language_info": {
   "codemirror_mode": {
    "name": "ipython",
    "version": 3
   },
   "file_extension": ".py",
   "mimetype": "text/x-python",
   "name": "python",
   "nbconvert_exporter": "python",
   "pygments_lexer": "ipython3",
   "version": "3.7.8"
  }
 },
 "nbformat": 4,
 "nbformat_minor": 4
}
