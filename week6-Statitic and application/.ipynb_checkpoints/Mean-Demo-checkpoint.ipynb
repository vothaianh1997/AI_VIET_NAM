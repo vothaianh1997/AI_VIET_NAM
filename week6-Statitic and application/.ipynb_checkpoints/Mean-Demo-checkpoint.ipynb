{
 "cells": [
  {
   "cell_type": "code",
   "execution_count": null,
   "metadata": {},
   "outputs": [],
   "source": [
    "import cv2\n",
    "import numpy as np\n",
    "\n",
    "# Load the cascade\n",
    "face_cascade = cv2.CascadeClassifier('haarcascade_frontalface_default.xml')\n",
    "\n",
    "# To capture video from webcam. \n",
    "cap = cv2.VideoCapture(0)\n",
    "\n",
    "# create kernel\n",
    "kernel = np.ones((7,7), np.float32) / 49.0\n",
    "\n",
    "while True:\n",
    "    # Read the frame\n",
    "    _, img = cap.read()\n",
    "    img2 = img.copy()\n",
    "    \n",
    "    # Convert to grayscale\n",
    "    gray = cv2.cvtColor(img, cv2.COLOR_BGR2GRAY)\n",
    "    \n",
    "    # Detect the faces\n",
    "    faces = face_cascade.detectMultiScale(gray, 1.1, 4)\n",
    "    \n",
    "    # Draw the rectangle around each face\n",
    "    for (x, y, w, h) in faces:\n",
    "        # Select ROI (top_y,top_x,height, width)\n",
    "        roi = img[y-10:y+h+10,x-10:x+w+10]\n",
    "\n",
    "        # compute mean for each pixel\n",
    "        roi = cv2.filter2D(roi, cv2.CV_8U, kernel)\n",
    "        roi = cv2.filter2D(roi, cv2.CV_8U, kernel)\n",
    "        roi = cv2.filter2D(roi, cv2.CV_8U, kernel)\n",
    "\n",
    "        # update\n",
    "        img[y-10:y+h+10,x-10:x+w+10] = roi\n",
    "    \n",
    "    # Display\n",
    "    cv2.imshow('img', img)\n",
    "    cv2.imshow('img2', img2)\n",
    "    \n",
    "    # Stop if escape key is pressed\n",
    "    key = cv2.waitKey(30) & 0xff\n",
    "    if key==27:\n",
    "        break\n",
    "\n",
    "# Release the VideoCapture object\n",
    "cap.release()\n",
    "cv2.destroyAllWindows()"
   ]
  }
 ],
 "metadata": {
  "kernelspec": {
   "display_name": "Python 3",
   "language": "python",
   "name": "python3"
  },
  "language_info": {
   "codemirror_mode": {
    "name": "ipython",
    "version": 3
   },
   "file_extension": ".py",
   "mimetype": "text/x-python",
   "name": "python",
   "nbconvert_exporter": "python",
   "pygments_lexer": "ipython3",
   "version": "3.7.3"
  }
 },
 "nbformat": 4,
 "nbformat_minor": 2
}
