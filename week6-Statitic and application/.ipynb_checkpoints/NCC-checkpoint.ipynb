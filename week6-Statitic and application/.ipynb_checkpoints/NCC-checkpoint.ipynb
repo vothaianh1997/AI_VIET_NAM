{
 "cells": [
  {
   "cell_type": "code",
   "execution_count": 15,
   "metadata": {},
   "outputs": [
    {
     "name": "stdout",
     "output_type": "stream",
     "text": [
      "Trung bình số tiền quyên góp là:  477.75\n"
     ]
    }
   ],
   "source": [
    "# mean\n",
    "def calculate_mean(numbers): #1\n",
    "    s = sum(numbers)         #2\n",
    "    N = len(numbers)         #3\n",
    "    mean = s/N               #4\n",
    "    return mean              #5\n",
    "\n",
    "# Tạo mảng donations đại diện cho số tiền quyên góp trong 12 ngày\n",
    "donations = [100, 60, 70, 900, 100, 200, 500, 500, 503, 600, 1000,1200]\n",
    "mean_value = calculate_mean(donations)\n",
    "print('Trung bình số tiền quyên góp là: ', mean_value)"
   ]
  },
  {
   "cell_type": "code",
   "execution_count": null,
   "metadata": {},
   "outputs": [],
   "source": []
  },
  {
   "cell_type": "code",
   "execution_count": null,
   "metadata": {},
   "outputs": [],
   "source": [
    "# median\n",
    "def calculate_median(numbers):                      #1\n",
    "    N = len(numbers)                                #2\n",
    "    numbers.sort()                                  #3\n",
    "    if N%2 == 0:                                    #4\n",
    "        m1 = N/2\n",
    "        m2 = (N/2) + 1\n",
    "        m1 = int(m1)-1\n",
    "        m2 = int(m2)-1\n",
    "        median = (numbers[m1] + numbers[m2])/2\n",
    "    else:                                           #5\n",
    "        m = (N+1)/2\n",
    "        m = int(m)-1\n",
    "        median = numbers[m]\n",
    "    return median                                   #6\n",
    "\n",
    "donations = np.array([100, 60, 70, 900, 100, 200, 500, 500, 503, 600, 1000,1200])\n",
    "meadian_value = calculate_median(donations)\n",
    "print('Trung vị số tiền quyên góp là: ', meadian_value)"
   ]
  },
  {
   "cell_type": "code",
   "execution_count": null,
   "metadata": {},
   "outputs": [],
   "source": []
  },
  {
   "cell_type": "code",
   "execution_count": null,
   "metadata": {},
   "outputs": [],
   "source": [
    "# range\n",
    "def find_range(numbers):        #1\n",
    "    lowest  = min(numbers)      #2\n",
    "    highest = max(numbers)      #3\n",
    "    r = highest-lowest          #4\n",
    "    print('Lowest: {0}\\tHighest: {1}\\tRange: {2}'.format(lowest, highest, r))\n",
    "\n",
    "# data\n",
    "points = [7, 8, 9, 2, 10, 9, 9, 9, 9, 4, 5, 6, 1, 5, 6, 7, 8, 6, 1, 10, 6, 6]\n",
    "find_range(points)"
   ]
  },
  {
   "cell_type": "code",
   "execution_count": null,
   "metadata": {},
   "outputs": [],
   "source": []
  },
  {
   "cell_type": "code",
   "execution_count": 17,
   "metadata": {},
   "outputs": [
    {
     "name": "stdout",
     "output_type": "stream",
     "text": [
      "Phương sai của dãy số là:  7.647499999999999\n",
      "Độ lệch chuẩn của dãy số là:  2.7654113618049663\n"
     ]
    }
   ],
   "source": [
    "# variance\n",
    "def calculate_mean(numbers):                    #1\n",
    "    s = sum(numbers)\n",
    "    N = len(numbers)\n",
    "    mean = s/N\n",
    "    return mean\n",
    "\n",
    "def caculate_variance(numbers):                 #2\n",
    "    mean = calculate_mean(numbers)              #3\n",
    "    \n",
    "    diff = []                                   #4\n",
    "    for num in numbers: \n",
    "         diff.append(num-mean)\n",
    "            \n",
    "    squared_diff = []                           #5\n",
    "    for d in diff:\n",
    "        squared_diff.append(d**2)\n",
    "    \n",
    "    sum_squared_diff = sum(squared_diff)\n",
    "    variance = sum_squared_diff/len(numbers)\n",
    "        \n",
    "    return variance\n",
    "\n",
    "# data\n",
    "points = [7, 8, 9, 2, 10, 9, 9, 9, 9, 4, 5, 6, 1, 5, 6, 7, 8, 6, 1, 10]\n",
    "\n",
    "print('Phương sai của dãy số là: ', caculate_variance(points))\n",
    "print('Độ lệch chuẩn của dãy số là: ', caculate_variance(points)**0.5)"
   ]
  },
  {
   "cell_type": "code",
   "execution_count": null,
   "metadata": {},
   "outputs": [],
   "source": []
  },
  {
   "cell_type": "code",
   "execution_count": 1,
   "metadata": {},
   "outputs": [],
   "source": [
    "def find_corr_x_y(x,y):                                         #1\n",
    "    n = len(x)                                                  #2\n",
    "    prod = []\n",
    "    for xi,yi in zip(x,y):                                      #3\n",
    "         prod.append(xi*yi)\n",
    "         \n",
    "    sum_prod_x_y = sum(prod)                                    #4\n",
    "    \n",
    "    sum_x = sum(x)\n",
    "    sum_y = sum(y)\n",
    "    \n",
    "    squared_sum_x = sum_x**2\n",
    "    squared_sum_y = sum_y**2 \n",
    "    \n",
    "    x_square = []\n",
    "    for xi in x:\n",
    "        x_square.append(xi**2)            \n",
    "    x_square_sum = sum(x_square)\n",
    "    y_square=[]\n",
    "    for yi in y:\n",
    "        y_square.append(yi**2)        \n",
    "    y_square_sum = sum(y_square)\n",
    "    \n",
    "    # Use formula to calculate correlation                      #5\n",
    "    numerator = n*sum_prod_x_y - sum_x*sum_y\n",
    "    denominator_term1 = n*x_square_sum - squared_sum_x\n",
    "    denominator_term2 = n*y_square_sum - squared_sum_y\n",
    "    denominator = (denominator_term1*denominator_term2)**0.5\n",
    "    correlation = numerator/denominator\n",
    "    \n",
    "    return correlation"
   ]
  },
  {
   "cell_type": "code",
   "execution_count": 4,
   "metadata": {},
   "outputs": [
    {
     "name": "stdout",
     "output_type": "stream",
     "text": [
      "[3, 13, 25, 17, 13, 43, 21]\n",
      "Hệ số tương quan tuyến tính giữa hai biến x,y:  0.14953944411984518\n",
      "Hệ số tương quan tuyến tính giữa hai biến x,y:  0.14953944411984518\n"
     ]
    }
   ],
   "source": [
    "x = [7, 18, 29, 2, 10, 9, 9]\n",
    "y = [1, 6, 12, 8, 6, 21, 10]\n",
    "y2 = []\n",
    "for i in y:\n",
    "    y2.append(i*2+1)\n",
    "print(y2)\n",
    "    \n",
    "print('Hệ số tương quan tuyến tính giữa hai biến x,y: ',find_corr_x_y(x,y))\n",
    "print('Hệ số tương quan tuyến tính giữa hai biến x,y: ',find_corr_x_y(x,y2))"
   ]
  },
  {
   "cell_type": "code",
   "execution_count": null,
   "metadata": {},
   "outputs": [],
   "source": []
  },
  {
   "cell_type": "code",
   "execution_count": 24,
   "metadata": {},
   "outputs": [
    {
     "name": "stdout",
     "output_type": "stream",
     "text": [
      "corr_1_2: 0.4450679623174581\n",
      "corr_1_3: 0.6772207557267912\n",
      "corr_1_4: -0.16394217859143195\n"
     ]
    }
   ],
   "source": [
    "# patch matching\n",
    "import numpy as np\n",
    "from PIL import Image\n",
    "\n",
    "# load ảnh và chuyển về kiểu list\n",
    "image1 = Image.open('images/patch1.png')\n",
    "image2 = Image.open('images/patch2.png')\n",
    "image3 = Image.open('images/patch3.png')\n",
    "image4 = Image.open('images/patch4.png')\n",
    "\n",
    "image1_list = np.asarray(image1).flatten().tolist()\n",
    "image2_list = np.asarray(image2).flatten().tolist()\n",
    "image3_list = np.asarray(image3).flatten().tolist()\n",
    "image4_list = np.asarray(image4).flatten().tolist()\n",
    "\n",
    "# tính correlation coefficient\n",
    "corr_1_2 = find_corr_x_y(image1_list, image2_list)\n",
    "corr_1_3 = find_corr_x_y(image1_list, image3_list)\n",
    "corr_1_4 = find_corr_x_y(image1_list, image4_list)\n",
    "\n",
    "print('corr_1_2:', corr_1_2)\n",
    "print('corr_1_3:', corr_1_3)\n",
    "print('corr_1_4:', corr_1_4)"
   ]
  },
  {
   "cell_type": "code",
   "execution_count": null,
   "metadata": {},
   "outputs": [],
   "source": []
  },
  {
   "cell_type": "code",
   "execution_count": null,
   "metadata": {},
   "outputs": [],
   "source": []
  },
  {
   "cell_type": "code",
   "execution_count": 30,
   "metadata": {},
   "outputs": [
    {
     "name": "stdout",
     "output_type": "stream",
     "text": [
      "<class 'numpy.uint8'>\n"
     ]
    },
    {
     "data": {
      "text/plain": [
       "True"
      ]
     },
     "execution_count": 30,
     "metadata": {},
     "output_type": "execute_result"
    }
   ],
   "source": [
    "# template matching\n",
    "\n",
    "import cv2\n",
    "import numpy as np\n",
    "from matplotlib import pyplot as plt\n",
    "\n",
    "# Load image and convert to grayscale\n",
    "image = cv.imread('image.png',1)\n",
    "gray  = cv2.cvtColor(image, cv2.COLOR_BGR2GRAY)\n",
    "\n",
    "print(type(gray[0][0]))\n",
    "\n",
    "template = cv.imread('template.png',0)\n",
    "w, h = template.shape[::-1]\n",
    "\n",
    "# Apply template Matching\n",
    "corr_map = cv2.matchTemplate(gray, template, cv2.TM_CCOEFF_NORMED)\n",
    "\n",
    "# save correlation map\n",
    "corr_map = (corr_map+1.0)*127.5\n",
    "corr_map = corr_map.astype('uint8') \n",
    "cv.imwrite('corr_map_grayscale.png', corr_map)"
   ]
  },
  {
   "cell_type": "code",
   "execution_count": 8,
   "metadata": {},
   "outputs": [
    {
     "data": {
      "text/plain": [
       "True"
      ]
     },
     "execution_count": 8,
     "metadata": {},
     "output_type": "execute_result"
    }
   ],
   "source": [
    "import cv2\n",
    "import numpy as np\n",
    "from matplotlib import pyplot as plt\n",
    "\n",
    "# Load image and convert to grayscale\n",
    "image = cv2.imread('image.png',1)\n",
    "gray  = cv2.cvtColor(image, cv2.COLOR_BGR2GRAY)\n",
    "\n",
    "template = cv2.imread('template.png',0)\n",
    "w, h = template.shape[::-1]\n",
    "\n",
    "# Apply template Matching\n",
    "corr_map = cv2.matchTemplate(gray, template, cv2.TM_CCOEFF_NORMED)\n",
    "min_val, max_val, min_loc, max_loc = cv2.minMaxLoc(corr_map) \n",
    "\n",
    "# take minimum\n",
    "top_left = max_loc\n",
    "bottom_right = (top_left[0] + w, top_left[1] + h)\n",
    "\n",
    "# draw \n",
    "cv2.rectangle(image, top_left, bottom_right, (0, 255, 0), 2)\n",
    "\n",
    "# save corr map in grayscale\n",
    "corr_map = (corr_map+1.0)*127.5\n",
    "corr_map = corr_map.astype('uint8') \n",
    "cv2.imwrite('corr_map_grayscale.png', corr_map)\n",
    "\n",
    "# applyColorMap\n",
    "corr_map = cv2.applyColorMap(corr_map, cv2.COLORMAP_JET)\n",
    "\n",
    "# save results\n",
    "cv2.imwrite('corr_map_color.png', corr_map)\n",
    "cv2.imwrite('result.png', image)"
   ]
  },
  {
   "cell_type": "code",
   "execution_count": null,
   "metadata": {},
   "outputs": [],
   "source": []
  }
 ],
 "metadata": {
  "kernelspec": {
   "display_name": "Python 3",
   "language": "python",
   "name": "python3"
  },
  "language_info": {
   "codemirror_mode": {
    "name": "ipython",
    "version": 3
   },
   "file_extension": ".py",
   "mimetype": "text/x-python",
   "name": "python",
   "nbconvert_exporter": "python",
   "pygments_lexer": "ipython3",
   "version": "3.7.3"
  }
 },
 "nbformat": 4,
 "nbformat_minor": 2
}
