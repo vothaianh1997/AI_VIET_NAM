{
 "cells": [
  {
   "cell_type": "code",
   "execution_count": 2,
   "metadata": {},
   "outputs": [
    {
     "name": "stdout",
     "output_type": "stream",
     "text": [
      "Lowest: 7\tHighest: 56\tRange: 49\n"
     ]
    }
   ],
   "source": [
    "def find_range(numbers):\n",
    "    lowest = min(numbers)\n",
    "    highest = max(numbers)\n",
    "    r = highest-lowest\n",
    "    print('Lowest: {0}\\tHighest: {1}\\tRange: {2}'.format(lowest, highest,r))\n",
    "# data\n",
    "points = [7,8,9,10,14,56,43]\n",
    "find_range(points)\n"
   ]
  },
  {
   "cell_type": "code",
   "execution_count": 9,
   "metadata": {},
   "outputs": [
    {
     "name": "stdout",
     "output_type": "stream",
     "text": [
      "tinh mean: 18.0\n",
      "tinh variance: 396.8\n"
     ]
    }
   ],
   "source": [
    "# Tinh variance \n",
    "def calculate_mean(numbers):\n",
    "    s = sum(numbers)\n",
    "    N = len(numbers)\n",
    "    mean = s/N\n",
    "    return mean\n",
    "def calculate_variance(numbers):\n",
    "    mean = calculate_mean(numbers)\n",
    "    \n",
    "    diff = []\n",
    "    for num in numbers:\n",
    "        diff.append(num-mean)\n",
    "    squared_diff = []\n",
    "    for d in diff:\n",
    "        squared_diff.append(d**2)\n",
    "    sum_squared_diff = sum(squared_diff)\n",
    "    variance = sum_squared_diff/len(numbers)\n",
    "    \n",
    "    return variance\n",
    "nb = [9,2,3,4,5,6,12,45,62,32]\n",
    "print('tinh mean:',calculate_mean(nb))\n",
    "print('tinh variance:',calculate_variance(nb))\n"
   ]
  },
  {
   "cell_type": "code",
   "execution_count": 11,
   "metadata": {},
   "outputs": [
    {
     "name": "stdout",
     "output_type": "stream",
     "text": [
      "97.66036907806124\n"
     ]
    },
    {
     "data": {
      "text/plain": [
       "True"
      ]
     },
     "execution_count": 11,
     "metadata": {},
     "output_type": "execute_result"
    }
   ],
   "source": [
    "import numpy as np\n",
    "import cv2\n",
    "import math\n",
    "from scipy.ndimage.filters import generic_filter\n",
    "\n",
    "img = cv2.imread('img.jpg')\n",
    "gray = cv2.cvtColor(img, cv2.COLOR_BGR2GRAY)\n",
    "cv2.imwrite('edge_s1.jpg', gray)\n",
    "\n",
    "x = gray.astype('float')\n",
    "x_filt = generic_filter(x, np.std, size=7)\n",
    "cv2.imwrite('edge_s2.jpg', x_filt)\n",
    "\n",
    "x_filt[x_filt < 20] = 0\n",
    "maxv = np.max(x_filt)\n",
    "print(maxv)\n",
    "\n",
    "x_filt = x_filt*2.5\n",
    "cv2.imwrite('edge_s4.jpg', x_filt)"
   ]
  },
  {
   "cell_type": "code",
   "execution_count": null,
   "metadata": {},
   "outputs": [],
   "source": []
  }
 ],
 "metadata": {
  "kernelspec": {
   "display_name": "Python 3",
   "language": "python",
   "name": "python3"
  },
  "language_info": {
   "codemirror_mode": {
    "name": "ipython",
    "version": 3
   },
   "file_extension": ".py",
   "mimetype": "text/x-python",
   "name": "python",
   "nbconvert_exporter": "python",
   "pygments_lexer": "ipython3",
   "version": "3.7.8"
  }
 },
 "nbformat": 4,
 "nbformat_minor": 4
}
